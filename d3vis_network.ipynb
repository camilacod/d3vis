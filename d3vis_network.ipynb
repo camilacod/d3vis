{
  "cells": [
    {
      "cell_type": "markdown",
      "metadata": {
        "id": "y-VX5r4Md0Dj"
      },
      "source": [
        "# d3vis_ipynb\n",
        "\n",
        "[A Custom Jupyter Widget Library with visualizations created with D3.js.](https://github.com/H-IAAC/d3vis_ipynb/tree/main)"
      ]
    },
    {
      "cell_type": "code",
      "execution_count": 1,
      "metadata": {},
      "outputs": [],
      "source": [
        "\n",
        "import json\n",
        "import traitlets\n",
        "from d3vis_ipynb import CustomWidget, MatrixLayout\n",
        "\n",
        "\n",
        "with open('data/nodes.json', 'r') as f:\n",
        "    nodes = json.load(f)\n",
        "\n",
        "with open('data/edges.json', 'r') as f:\n",
        "    edges = json.load(f)"
      ]
    },
    {
      "cell_type": "markdown",
      "metadata": {
        "id": "u3utedNrj5V7"
      },
      "source": [
        "\n",
        "\n",
        "---\n",
        "\n"
      ]
    },
    {
      "cell_type": "code",
      "execution_count": null,
      "metadata": {},
      "outputs": [
        {
          "data": {
            "application/vnd.jupyter.widget-view+json": {
              "model_id": "ec6aeb4c47bb454aacbafeee33656688",
              "version_major": 2,
              "version_minor": 0
            },
            "text/plain": [
              "CustomNetworkViz(data=[[{'id': 0, 'name': 'José Manuel Aguilar Alfaro', 'type': 'person', 'email': 'jaguilar@u…"
            ]
          },
          "metadata": {},
          "output_type": "display_data"
        },
        {
          "data": {
            "application/vnd.jupyter.widget-view+json": {
              "model_id": "d4bf426cc3c141139785f771697d64f1",
              "version_major": 2,
              "version_minor": 0
            },
            "text/plain": [
              "MatrixLayout(grid_areas=['JLbJgbQWuP', 'ShlBCaQLiD', 'tBHEoAadXN', 'IEcrCsfYhC'], grid_template_areas='\\n\"JLbJ…"
            ]
          },
          "metadata": {},
          "output_type": "display_data"
        }
      ],
      "source": [
        "\n",
        "\n",
        "class CustomNetworkViz(CustomWidget):\n",
        "    _esm = CustomWidget.createWidgetFromLocalFile(\n",
        "        paramList=[\"data\", \"nodeTypeField\"], \n",
        "        filePath=\"network_viz.js\"\n",
        "    )\n",
        "\n",
        "    data = traitlets.List([]).tag(sync=True)\n",
        "    nodeTypeField = traitlets.Unicode('type').tag(sync=True)\n",
        "    selectedValues = traitlets.List([]).tag(sync=True)\n",
        "\n",
        "    def on_select_values(self, callback):\n",
        "        self.observe(callback, names=[\"selectedValues\"])\n",
        "\n",
        "\n",
        "network_viz = CustomNetworkViz(data=[nodes, edges], nodeTypeField='type')\n",
        "\n",
        "def on_selection_changed(change):\n",
        "    selected = change['new']\n",
        "    if selected:\n",
        "        print(f\"Selected {len(selected)} nodes\")\n",
        "        for node in selected[:3]:  # Show first 3 to avoid clutter\n",
        "            print(f\"  - {node.get('name', node.get('id'))}\")\n",
        "        if len(selected) > 3:\n",
        "            print(f\"  - and {len(selected) - 3} more...\")\n",
        "\n",
        "\n",
        "network_viz.on_select_values(on_selection_changed)\n",
        "\n",
        "\n",
        "matrix = [\n",
        "    [1, 1, 2, 2],\n",
        "    [1, 1, 2, 2],\n",
        "    [3, 3, 4, 4],\n",
        "    [3, 3, 4, 4]\n",
        "]\n",
        "\n",
        "\n",
        "matrix_layout = MatrixLayout(matrix, style=\"neumorphism\")\n",
        "\n",
        "\n",
        "matrix_layout.add(network_viz, 1)\n",
        "\n",
        "\n",
        "matrix_layout\n"
      ]
    }
  ],
  "metadata": {
    "colab": {
      "private_outputs": true,
      "provenance": []
    },
    "kernelspec": {
      "display_name": "Python 3",
      "name": "python3"
    },
    "language_info": {
      "codemirror_mode": {
        "name": "ipython",
        "version": 3
      },
      "file_extension": ".py",
      "mimetype": "text/x-python",
      "name": "python",
      "nbconvert_exporter": "python",
      "pygments_lexer": "ipython3",
      "version": "3.10.9"
    }
  },
  "nbformat": 4,
  "nbformat_minor": 0
}
