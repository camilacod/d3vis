{
 "cells": [
  {
   "cell_type": "markdown",
   "metadata": {
    "id": "y-VX5r4Md0Dj"
   },
   "source": [
    "# d3vis_ipynb\n",
    "\n",
    "[A Custom Jupyter Widget Library with visualizations created with D3.js.](https://github.com/H-IAAC/d3vis_ipynb/tree/main)"
   ]
  },
  {
   "cell_type": "code",
   "execution_count": 2,
   "metadata": {},
   "outputs": [
    {
     "name": "stderr",
     "output_type": "stream",
     "text": [
      "Columns (5,6) have mixed types. Specify dtype option on import or set low_memory=False.\n"
     ]
    }
   ],
   "source": [
    "import json\n",
    "import pandas as pd\n",
    "import traitlets\n",
    "from d3vis_ipynb import CustomWidget, MatrixLayout\n",
    "\n",
    "# Load network data\n",
    "with open('data/nodes.json', 'r') as f:\n",
    "    nodes = json.load(f)\n",
    "\n",
    "with open('data/edges.json', 'r') as f:\n",
    "    edges = json.load(f)\n",
    "\n",
    "# Load mental health data\n",
    "mental_health_df = pd.read_csv('data2/Mental health Depression disorder Data.csv')\n",
    "mental_health_csv = mental_health_df.to_csv(index=False)"
   ]
  },
  {
   "cell_type": "markdown",
   "metadata": {
    "id": "u3utedNrj5V7"
   },
   "source": [
    "\n",
    "\n",
    "---\n",
    "\n"
   ]
  },
  {
   "cell_type": "code",
   "execution_count": 4,
   "metadata": {},
   "outputs": [],
   "source": [
    "# class CustomNetworkViz(CustomWidget):\n",
    "#     _esm = CustomWidget.createWidgetFromLocalFile(\n",
    "#         paramList=[\"data\", \"nodeTypeField\"], \n",
    "#         filePath=\"network_viz.js\"\n",
    "#     )\n",
    "\n",
    "#     data = traitlets.List([]).tag(sync=True)\n",
    "#     nodeTypeField = traitlets.Unicode('type').tag(sync=True)\n",
    "#     selectedValues = traitlets.List([]).tag(sync=True)\n",
    "\n",
    "#     def on_select_values(self, callback):\n",
    "#         self.observe(callback, names=[\"selectedValues\"])\n",
    "\n",
    "class MentalHealthTimeline(CustomWidget):\n",
    "    _esm = CustomWidget.createWidgetFromLocalFile(\n",
    "        paramList=[\"data\", \"selectedCountries\"], \n",
    "        filePath=\"timeline_viz.js\"\n",
    "    )\n",
    "\n",
    "    data = traitlets.Unicode('').tag(sync=True)\n",
    "    selectedCountries = traitlets.List([]).tag(sync=True)\n",
    "    selectedValues = traitlets.List([]).tag(sync=True)\n",
    "    selectedSingleValue = traitlets.Union([traitlets.Int(), traitlets.Unicode(), traitlets.Bool()], allow_none=True).tag(sync=True)\n",
    "\n",
    "    def on_select_values(self, callback):\n",
    "        self.observe(callback, names=[\"selectedValues\"])\n",
    "    \n",
    "    def on_select_single_value(self, callback):\n",
    "        self.observe(callback, names=[\"selectedSingleValue\"])\n",
    "\n",
    "class MentalHealthComparison(CustomWidget):\n",
    "    _esm = CustomWidget.createWidgetFromLocalFile(\n",
    "        paramList=[\"data\", \"selectedYear\"], \n",
    "        filePath=\"comparison_viz.js\"\n",
    "    )\n",
    "\n",
    "    data = traitlets.Unicode('').tag(sync=True)\n",
    "    selectedYear = traitlets.Int(2017).tag(sync=True)\n",
    "    selectedValues = traitlets.List([]).tag(sync=True)\n",
    "    selectedSingleValue = traitlets.Union([traitlets.Int(), traitlets.Unicode(), traitlets.Bool()], allow_none=True).tag(sync=True)\n",
    "\n",
    "    def on_select_values(self, callback):\n",
    "        self.observe(callback, names=[\"selectedValues\"])\n",
    "    \n",
    "    def on_select_single_value(self, callback):\n",
    "        self.observe(callback, names=[\"selectedSingleValue\"])\n",
    "\n",
    "class MentalHealthScatter(CustomWidget):\n",
    "    _esm = CustomWidget.createWidgetFromLocalFile(\n",
    "        paramList=[\"data\", \"selectedCountries\"], \n",
    "        filePath=\"scatter_viz.js\"\n",
    "    )\n",
    "\n",
    "    data = traitlets.Unicode('').tag(sync=True)\n",
    "    selectedCountries = traitlets.List([]).tag(sync=True)\n",
    "    selectedValues = traitlets.List([]).tag(sync=True)\n",
    "    selectedSingleValue = traitlets.Union([traitlets.Int(), traitlets.Unicode(), traitlets.Bool()], allow_none=True).tag(sync=True)\n",
    "\n",
    "    def on_select_values(self, callback):\n",
    "        self.observe(callback, names=[\"selectedValues\"])\n",
    "    \n",
    "    def on_select_single_value(self, callback):\n",
    "        self.observe(callback, names=[\"selectedSingleValue\"])\n",
    "\n",
    "# # Create network visualization\n",
    "# network_viz = CustomNetworkViz(data=[nodes, edges], nodeTypeField='type')\n",
    "\n",
    "# Create mental health visualizations\n",
    "timeline_viz = MentalHealthTimeline(data=mental_health_csv, selectedCountries=['Afghanistan', 'Albania', 'Algeria'])\n",
    "comparison_viz = MentalHealthComparison(data=mental_health_csv, selectedYear=2017)\n",
    "scatter_viz = MentalHealthScatter(data=mental_health_csv, selectedCountries=[])\n",
    "\n",
    "# Global state management for linked views\n",
    "selected_countries = []\n",
    "selected_year = None\n",
    "\n",
    "def sync_selections():\n",
    "    \"\"\"Synchronize selections across all visualizations\"\"\"\n",
    "    global selected_countries, selected_year\n",
    "    \n",
    "    # Update all visualizations with current selections\n",
    "    timeline_viz.selectedCountries = selected_countries\n",
    "    comparison_viz.selectedYear = selected_year if selected_year else 2017\n",
    "    scatter_viz.selectedCountries = selected_countries\n",
    "    \n",
    "    if selected_year:\n",
    "        timeline_viz.selectedSingleValue = selected_year\n",
    "        comparison_viz.selectedSingleValue = selected_year\n",
    "        scatter_viz.selectedSingleValue = selected_year\n",
    "\n",
    "# def on_network_selection_changed(change):\n",
    "#     \"\"\"Handle network visualization selections\"\"\"\n",
    "#     selected = change['new']\n",
    "#     if selected:\n",
    "#         print(f\"Network: Selected {len(selected)} nodes\")\n",
    "#         for node in selected[:3]:\n",
    "#             print(f\"  - {node.get('name', node.get('id'))}\")\n",
    "#         if len(selected) > 3:\n",
    "#             print(f\"  - and {len(selected) - 3} more...\")\n",
    "\n",
    "def on_country_selection_changed(change):\n",
    "    \"\"\"Handle country selections from mental health visualizations\"\"\"\n",
    "    global selected_countries\n",
    "    selected = change['new']\n",
    "    if selected:\n",
    "        selected_countries = selected\n",
    "        print(f\"Countries selected: {', '.join(selected_countries)}\")\n",
    "        sync_selections()\n",
    "\n",
    "def on_year_selection_changed(change):\n",
    "    \"\"\"Handle year selections from mental health visualizations\"\"\"\n",
    "    global selected_year\n",
    "    selected = change['new']\n",
    "    if selected:\n",
    "        selected_year = selected\n",
    "        print(f\"Year selected: {selected_year}\")\n",
    "        sync_selections()\n",
    "\n",
    "# # Set up event handlers\n",
    "# network_viz.on_select_values(on_network_selection_changed)\n",
    "\n",
    "# Country selection handlers\n",
    "timeline_viz.on_select_values(on_country_selection_changed)\n",
    "comparison_viz.on_select_values(on_country_selection_changed)\n",
    "scatter_viz.on_select_values(on_country_selection_changed)\n",
    "\n",
    "# Year selection handlers\n",
    "timeline_viz.on_select_single_value(on_year_selection_changed)\n",
    "comparison_viz.on_select_single_value(on_year_selection_changed)\n",
    "scatter_viz.on_select_single_value(on_year_selection_changed)\n",
    "\n",
    "# Create matrix layout with proper height configuration\n",
    "matrix = [\n",
    "    [1, 2]\n",
    "]\n",
    "\n",
    "# Configure matrix layout with appropriate height\n",
    "matrix_layout = MatrixLayout(matrix, style=\"neumorphism\")\n",
    "matrix_layout.layout.height = \"800px\"  # Increased from 400px to 800px\n",
    "\n",
    "# Add visualizations to matrix layout\n",
    "matrix_layout.add(timeline_viz, 1)     # Left\n",
    "matrix_layout.add(comparison_viz, 2)   # Right"
   ]
  },
  {
   "cell_type": "code",
   "execution_count": 6,
   "metadata": {},
   "outputs": [
    {
     "data": {
      "application/vnd.jupyter.widget-view+json": {
       "model_id": "cd82209c5f604d15832f5689ee6f14c2",
       "version_major": 2,
       "version_minor": 0
      },
      "text/plain": [
       "MentalHealthTimeline(data='index,Entity,Code,Year,Schizophrenia (%),Bipolar disorder (%),Eating disorders (%),…"
      ]
     },
     "metadata": {},
     "output_type": "display_data"
    },
    {
     "data": {
      "application/vnd.jupyter.widget-view+json": {
       "model_id": "249426a4ccd74155b10ec3e390db6348",
       "version_major": 2,
       "version_minor": 0
      },
      "text/plain": [
       "MentalHealthComparison(data='index,Entity,Code,Year,Schizophrenia (%),Bipolar disorder (%),Eating disorders (%…"
      ]
     },
     "metadata": {},
     "output_type": "display_data"
    },
    {
     "data": {
      "application/vnd.jupyter.widget-view+json": {
       "model_id": "54f70df1777d44ebaa0f01c2ddd9a944",
       "version_major": 2,
       "version_minor": 0
      },
      "text/plain": [
       "MatrixLayout(grid_areas=['BdYCmCyxKA', 'ixdHnfzUch'], grid_template_areas='\\n\"BdYCmCyxKA ixdHnfzUch \"', layout…"
      ]
     },
     "metadata": {},
     "output_type": "display_data"
    }
   ],
   "source": [
    "matrix_layout"
   ]
  },
  {
   "cell_type": "code",
   "execution_count": null,
   "metadata": {},
   "outputs": [],
   "source": []
  }
 ],
 "metadata": {
  "colab": {
   "private_outputs": true,
   "provenance": []
  },
  "kernelspec": {
   "display_name": "Python 3",
   "name": "python3"
  },
  "language_info": {
   "codemirror_mode": {
    "name": "ipython",
    "version": 3
   },
   "file_extension": ".py",
   "mimetype": "text/x-python",
   "name": "python",
   "nbconvert_exporter": "python",
   "pygments_lexer": "ipython3",
   "version": "3.10.9"
  }
 },
 "nbformat": 4,
 "nbformat_minor": 0
}
